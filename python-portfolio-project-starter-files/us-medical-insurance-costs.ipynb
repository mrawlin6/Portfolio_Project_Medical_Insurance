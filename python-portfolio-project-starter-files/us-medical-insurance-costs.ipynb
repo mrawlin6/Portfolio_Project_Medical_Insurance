{
 "cells": [
  {
   "cell_type": "markdown",
   "metadata": {},
   "source": [
    "# U.S. Medical Insurance Costs"
   ]
  },
  {
   "cell_type": "markdown",
   "metadata": {},
   "source": [
    "In this project I will be using my python fundamentals and skills to look over a medical insurance costs dataset. The goal of this project is to first begin understanding what are good buisness questions and what questions can be answered through this dataset. My second goal for this project is to use these buisness questions to guide me through my data exploration. Lastly, doing some predictions using the data in relation to the questions that I choose to answer."
   ]
  },
  {
   "cell_type": "code",
   "execution_count": 12,
   "metadata": {},
   "outputs": [
    {
     "name": "stdout",
     "output_type": "stream",
     "text": [
      "<class 'str'>\n",
      "<class 'str'>\n",
      "<class 'str'>\n",
      "<class 'str'>\n",
      "<class 'str'>\n",
      "<class 'str'>\n",
      "<class 'str'>\n",
      "19\n",
      "female\n",
      "27.9\n",
      "0\n",
      "yes\n",
      "southwest\n",
      "16884.924\n"
     ]
    }
   ],
   "source": [
    "import csv\n",
    "ages = []\n",
    "sexs = []\n",
    "bmis = []\n",
    "children = []\n",
    "smoker = []\n",
    "regions = []\n",
    "charges = []\n",
    "with open('insurance.csv') as csvfile:\n",
    "    reader = csv.DictReader(csvfile)\n",
    "    for row in reader:\n",
    "        ages.append(row['age'])\n",
    "        sexs.append(row['sex'])\n",
    "        bmis.append(row['bmi'])\n",
    "        children.append(row['children'])\n",
    "        smoker.append(row['smoker'])\n",
    "        regions.append(row['region'])\n",
    "        charges.append(row['charges'])\n",
    "print(type(ages[0]))\n",
    "print(type(sexs[0]))\n",
    "print(type(bmis[0]))\n",
    "print(type(children[0]))\n",
    "print(type(smoker[0]))\n",
    "print(type(regions[0]))\n",
    "print(type(charges[0]))\n",
    "print((ages[0]))\n",
    "print((sexs[0]))\n",
    "print((bmis[0]))\n",
    "print((children[0]))\n",
    "print((smoker[0]))\n",
    "print((regions[0]))\n",
    "print((charges[0]))"
   ]
  },
  {
   "cell_type": "markdown",
   "metadata": {},
   "source": [
    "Some questions I will aim to answer in this project are:\n",
    "\n",
    "What is the average age of the patients in the dataset?\n",
    "Where are majority of patients from?\n",
    "What is the different costs between smokers vs. non-smokers, on average?\n",
    "What is the average age for someone who has at least one child in this dataset?\n",
    "What is the average insurance costs for males and females with and without children?\n",
    "What is the average BMI for male and female smokers? Non-smokers?"
   ]
  },
  {
   "cell_type": "code",
   "execution_count": 15,
   "metadata": {},
   "outputs": [
    {
     "name": "stdout",
     "output_type": "stream",
     "text": [
      "19\n",
      "<class 'int'>\n",
      "27.9\n",
      "<class 'float'>\n"
     ]
    }
   ],
   "source": [
    "# Function to clean all data and change data types\n",
    "def clean_data(ages, bmis, children, charges):\n",
    "    ages_clean = []\n",
    "    bmis_clean = []\n",
    "    children_clean = []\n",
    "    charges_clean = []\n",
    "    for age in ages:\n",
    "        ages_clean.append(int(age))\n",
    "    for bmi in bmis:\n",
    "        bmis_clean.append(float(bmi))\n",
    "    for child in children:\n",
    "        children_clean.append(int(child))\n",
    "    for charge in charges:\n",
    "        charges_clean.append(float(charge))\n",
    "    return ages_clean, bmis_clean, children_clean, charges_clean\n",
    "ages, bmis, children, charges = clean_data(ages, bmis, children, charges)\n",
    "print(ages[0])\n",
    "print(type(ages[0]))\n",
    "print(bmis[0])\n",
    "print(type(bmis[0]))"
   ]
  },
  {
   "cell_type": "code",
   "execution_count": 20,
   "metadata": {},
   "outputs": [
    {
     "name": "stdout",
     "output_type": "stream",
     "text": [
      "The average age is 38\n"
     ]
    }
   ],
   "source": [
    "def average_age(ages):\n",
    "    total_ages = 0\n",
    "    rows = len(ages)\n",
    "    for age in ages:\n",
    "        total_ages += ages[age]\n",
    "    avg_age = total_ages/rows\n",
    "    return int(avg_age)\n",
    "avg_age = average_age(ages)\n",
    "print(\"The average age in this dataset is {avg_age}\".format(avg_age=avg_age))"
   ]
  },
  {
   "cell_type": "code",
   "execution_count": 32,
   "metadata": {},
   "outputs": [
    {
     "name": "stdout",
     "output_type": "stream",
     "text": [
      "{1: ('southeast', 364), 2: ('southwest', 325), 3: ('northwest', 325), 4: ('northeast', 324)}\n"
     ]
    }
   ],
   "source": [
    "def rank_majority_location(regions):\n",
    "    locations = {}\n",
    "    for region in regions:\n",
    "        if region in locations:\n",
    "            locations[region] += 1\n",
    "        else:\n",
    "            locations[region] = 1\n",
    "    sorted_locations = sorted(locations.items(), key=lambda x: x[1], reverse=True)\n",
    "    ranked_regions = {}\n",
    "    for i, (region, count) in enumerate(sorted_locations, start=1):\n",
    "        ranked_regions[i] = (region, count)\n",
    "    return ranked_regions\n",
    "\n",
    "ranked_regions = rank_majority_location(regions)\n",
    "print(ranked_regions)"
   ]
  },
  {
   "cell_type": "code",
   "execution_count": null,
   "metadata": {},
   "outputs": [],
   "source": [
    "def diff_cost_smoker_nosmoker(smoker, charges):\n",
    "    "
   ]
  },
  {
   "cell_type": "code",
   "execution_count": null,
   "metadata": {},
   "outputs": [],
   "source": [
    "def avg_age_one_child(ages, children):\n",
    "    "
   ]
  },
  {
   "cell_type": "code",
   "execution_count": null,
   "metadata": {},
   "outputs": [],
   "source": [
    "def avg_cost_sex_children(ages, children, charges):\n",
    "    "
   ]
  },
  {
   "cell_type": "code",
   "execution_count": null,
   "metadata": {},
   "outputs": [],
   "source": [
    "def bmi_sex_smoker(bmis, sexs, smoker):\n",
    "    "
   ]
  }
 ],
 "metadata": {
  "kernelspec": {
   "display_name": "Python 3 (ipykernel)",
   "language": "python",
   "name": "python3"
  },
  "language_info": {
   "codemirror_mode": {
    "name": "ipython",
    "version": 3
   },
   "file_extension": ".py",
   "mimetype": "text/x-python",
   "name": "python",
   "nbconvert_exporter": "python",
   "pygments_lexer": "ipython3",
   "version": "3.9.12"
  }
 },
 "nbformat": 4,
 "nbformat_minor": 4
}
