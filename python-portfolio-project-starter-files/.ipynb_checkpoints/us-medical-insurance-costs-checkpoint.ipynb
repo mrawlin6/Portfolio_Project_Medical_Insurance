{
 "cells": [
  {
   "cell_type": "markdown",
   "metadata": {},
   "source": [
    "# U.S. Medical Insurance Costs"
   ]
  },
  {
   "cell_type": "markdown",
   "metadata": {},
   "source": [
    "In this project I will be using my python fundamentals and skills to look over a medical insurance costs dataset. The goal of this project is to first begin understanding what are good buisness questions and what questions can be answered through this dataset. My second goal for this project is to use these buisness questions to guide me through my data exploration. Lastly, doing some predictions using the data in relation to the questions that I choose to answer."
   ]
  },
  {
   "cell_type": "code",
   "execution_count": 12,
   "metadata": {},
   "outputs": [
    {
     "name": "stdout",
     "output_type": "stream",
     "text": [
      "<class 'str'>\n",
      "<class 'str'>\n",
      "<class 'str'>\n",
      "<class 'str'>\n",
      "<class 'str'>\n",
      "<class 'str'>\n",
      "<class 'str'>\n",
      "19\n",
      "female\n",
      "27.9\n",
      "0\n",
      "yes\n",
      "southwest\n",
      "16884.924\n"
     ]
    }
   ],
   "source": [
    "import csv\n",
    "ages = []\n",
    "sexs = []\n",
    "bmis = []\n",
    "children = []\n",
    "smoker = []\n",
    "regions = []\n",
    "charges = []\n",
    "with open('insurance.csv') as csvfile:\n",
    "    reader = csv.DictReader(csvfile)\n",
    "    for row in reader:\n",
    "        ages.append(row['age'])\n",
    "        sexs.append(row['sex'])\n",
    "        bmis.append(row['bmi'])\n",
    "        children.append(row['children'])\n",
    "        smoker.append(row['smoker'])\n",
    "        regions.append(row['region'])\n",
    "        charges.append(row['charges'])\n",
    "print(type(ages[0]))\n",
    "print(type(sexs[0]))\n",
    "print(type(bmis[0]))\n",
    "print(type(children[0]))\n",
    "print(type(smoker[0]))\n",
    "print(type(regions[0]))\n",
    "print(type(charges[0]))\n",
    "print((ages[0]))\n",
    "print((sexs[0]))\n",
    "print((bmis[0]))\n",
    "print((children[0]))\n",
    "print((smoker[0]))\n",
    "print((regions[0]))\n",
    "print((charges[0]))"
   ]
  },
  {
   "cell_type": "markdown",
   "metadata": {},
   "source": [
    "Some questions I will aim to answer in this project are:\n",
    "\n",
    "What is the average age of the patients in the dataset?\n",
    "Where are majority of patients from?\n",
    "What is the different costs between smokers vs. non-smokers, on average?\n",
    "What is the average age for someone who has at least one child in this dataset?\n",
    "What is the average insurance costs for males and females with and without children?\n",
    "What is the average BMI for male and female smokers? Non-smokers?"
   ]
  },
  {
   "cell_type": "code",
   "execution_count": 15,
   "metadata": {},
   "outputs": [
    {
     "name": "stdout",
     "output_type": "stream",
     "text": [
      "19\n",
      "<class 'int'>\n",
      "27.9\n",
      "<class 'float'>\n"
     ]
    }
   ],
   "source": [
    "# Function to clean all data and change data types\n",
    "def clean_data(ages, bmis, children, charges):\n",
    "    ages_clean = []\n",
    "    bmis_clean = []\n",
    "    children_clean = []\n",
    "    charges_clean = []\n",
    "    for age in ages:\n",
    "        ages_clean.append(int(age))\n",
    "    for bmi in bmis:\n",
    "        bmis_clean.append(float(bmi))\n",
    "    for child in children:\n",
    "        children_clean.append(int(child))\n",
    "    for charge in charges:\n",
    "        charges_clean.append(float(charge))\n",
    "    return ages_clean, bmis_clean, children_clean, charges_clean\n",
    "ages, bmis, children, charges = clean_data(ages, bmis, children, charges)\n",
    "print(ages[0])\n",
    "print(type(ages[0]))\n",
    "print(bmis[0])\n",
    "print(type(bmis[0]))"
   ]
  },
  {
   "cell_type": "code",
   "execution_count": 20,
   "metadata": {},
   "outputs": [
    {
     "name": "stdout",
     "output_type": "stream",
     "text": [
      "The average age is 38\n"
     ]
    }
   ],
   "source": [
    "def average_age(ages):\n",
    "    total_ages = 0\n",
    "    rows = len(ages)\n",
    "    for age in ages:\n",
    "        total_ages += ages[age]\n",
    "    avg_age = total_ages/rows\n",
    "    return int(avg_age)\n",
    "avg_age = average_age(ages)\n",
    "print(\"The average age in this dataset is {avg_age}\".format(avg_age=avg_age))"
   ]
  },
  {
   "cell_type": "code",
   "execution_count": 32,
   "metadata": {},
   "outputs": [
    {
     "name": "stdout",
     "output_type": "stream",
     "text": [
      "{1: ('southeast', 364), 2: ('southwest', 325), 3: ('northwest', 325), 4: ('northeast', 324)}\n"
     ]
    }
   ],
   "source": [
    "def rank_majority_location(regions):\n",
    "    locations = {}\n",
    "    for region in regions:\n",
    "        if region in locations:\n",
    "            locations[region] += 1\n",
    "        else:\n",
    "            locations[region] = 1\n",
    "    sorted_locations = sorted(locations.items(), key=lambda x: x[1], reverse=True)\n",
    "    ranked_regions = {}\n",
    "    for i, (region, count) in enumerate(sorted_locations, start=1):\n",
    "        ranked_regions[i] = (region, count)\n",
    "    return ranked_regions\n",
    "\n",
    "ranked_regions = rank_majority_location(regions)\n",
    "print(ranked_regions)"
   ]
  },
  {
   "cell_type": "code",
   "execution_count": 39,
   "metadata": {},
   "outputs": [
    {
     "name": "stdout",
     "output_type": "stream",
     "text": [
      "The average cost for a smoker is $32050.23. The average cost for a non smoker is $8434.27. The difference in average cost is $23615.96.\n"
     ]
    }
   ],
   "source": [
    "def diff_cost_smoker_nonsmoker(smoker, charges):\n",
    "    smokers_charges = 0\n",
    "    smoker_count = 0\n",
    "    nonsmokers_charges = 0\n",
    "    nonsmoker_count = 0\n",
    "    for i in range(0, len(smoker)):\n",
    "        if smoker[i] == 'yes':\n",
    "            smokers_charges += charges[i]\n",
    "            smoker_count += 1\n",
    "        elif smoker[i] == 'no':\n",
    "            nonsmokers_charges += charges[i]\n",
    "            nonsmoker_count += 1\n",
    "        else:\n",
    "            nonsmokers_charges += charges[i]\n",
    "            nonsmoker_count +=1\n",
    "    smokers_avg_cost = (smokers_charges/smoker_count)\n",
    "    nonsmokers_avg_cost = (nonsmokers_charges/nonsmoker_count)\n",
    "    difference = smokers_avg_cost - nonsmokers_avg_cost\n",
    "    return smokers_avg_cost, nonsmokers_avg_cost, difference\n",
    "\n",
    "smokers_avg_cost, nonsmokers_avg_cost, difference = diff_cost_smoker_nonsmoker(smoker, charges)\n",
    "print('The average cost for a smoker is ${smokers_avg_cost:.2f}. The average cost for a non smoker is ${nonsmokers_avg_cost:.2f}. The difference in average cost is ${difference:.2f}.'.format(smokers_avg_cost=smokers_avg_cost, nonsmokers_avg_cost=nonsmokers_avg_cost, difference=difference))"
   ]
  },
  {
   "cell_type": "code",
   "execution_count": 42,
   "metadata": {},
   "outputs": [
    {
     "name": "stdout",
     "output_type": "stream",
     "text": [
      "The average age of a person with one child is 39\n"
     ]
    }
   ],
   "source": [
    "def avg_age_one_child(ages, children):\n",
    "    age_counter = 0\n",
    "    total_count = 0\n",
    "    for i in range(0, len(children)):\n",
    "        if children[i] == 1:\n",
    "            age_counter += ages[i]\n",
    "            total_count += 1\n",
    "    avg_age = age_counter/total_count\n",
    "    return avg_age\n",
    "avg_age = avg_age_one_child(ages, children)\n",
    "avg_age = int(avg_age)\n",
    "print(\"The average age of a person with one child is {avg_age}\".format(avg_age=avg_age))"
   ]
  },
  {
   "cell_type": "code",
   "execution_count": 56,
   "metadata": {},
   "outputs": [
    {
     "name": "stdout",
     "output_type": "stream",
     "text": [
      "The average cost of insurance for just males with 0 children is $46.12.\n",
      "The average cost of insurance for just females with 0 children is $100.84.\n",
      "The average cost of insurance for just males with 1 children is $56.49.\n",
      "The average cost of insurance for just females with 1 children is $20.31.\n",
      "The average cost of insurance for just males with 0 children is $13.87.\n"
     ]
    }
   ],
   "source": [
    "def avg_cost_sex_children(sexs, children, charges):\n",
    "    male0 = 0\n",
    "    male1 = 0\n",
    "    male2 = 0\n",
    "    male3 = 0\n",
    "    male4over = 0\n",
    "    female0 = 0\n",
    "    female1 = 0\n",
    "    female2 = 0\n",
    "    female3 = 0\n",
    "    female4over = 0\n",
    "    male_0child_cost = 0\n",
    "    female_0child_cost = 0\n",
    "    male_1child_cost = 0\n",
    "    female_1child_cost = 0\n",
    "    male_2child_cost = 0\n",
    "    female_2child_cost = 0\n",
    "    male_3child_cost = 0\n",
    "    female_3child_cost = 0\n",
    "    male_4andmore_cost = 0\n",
    "    female_4andmore_cost = 0\n",
    "    males = 0\n",
    "    females = 0\n",
    "    for i in range(0, len(sexs)):\n",
    "        if children[i] == 0:\n",
    "            if sexs[i] == 'male':\n",
    "                male_0child_cost = charges[i]\n",
    "                male0 += 1\n",
    "                males += 1\n",
    "            elif sexs[i] == 'female':\n",
    "                female_0child_cost = charges[i]\n",
    "                female0 += 1\n",
    "                females += 1\n",
    "        elif children[i] == 1:\n",
    "            if sexs[i] == 'male':\n",
    "                male_1child_cost = charges[i]\n",
    "                male1 += 1\n",
    "                males += 1\n",
    "            elif sexs[i] == 'female':\n",
    "                female_1child_cost = charges[i]\n",
    "                female1 += 1\n",
    "                females += 1\n",
    "        elif children[i] == 2:\n",
    "            if sexs[i] == 'male':\n",
    "                male_2child_cost = charges[i]\n",
    "                male2 += 1\n",
    "                males += 1\n",
    "            elif sexs[i] == 'female':\n",
    "                female_2child_cost = charges[i]\n",
    "                female2 += 1\n",
    "                females += 1\n",
    "        elif children[i] == 3:\n",
    "            if sexs[i] == 'male':\n",
    "                male_3child_cost = charges[i]\n",
    "                male3 += 1\n",
    "                males += 1\n",
    "            elif sexs[i] == 'female':\n",
    "                female_3child_cost = charges[i]\n",
    "                female3 += 1\n",
    "                females += 1\n",
    "        elif children[i] >= 4:\n",
    "            if sexs[i] == 'male':\n",
    "                male_4andmore_cost = charges[i]\n",
    "                male4over += 1\n",
    "                males += 1\n",
    "            elif sexs[i] == 'female':\n",
    "                female_4andmore_cost = charges[i]\n",
    "                female4over += 1\n",
    "                females += 1\n",
    "    \n",
    "    avg_cost_male_0child = male_0child_cost/male0\n",
    "    avg_cost_male_1child = male_1child_cost/male1\n",
    "    avg_cost_male_2child = male_2child_cost/male2\n",
    "    avg_cost_male_3child = male_3child_cost/male3\n",
    "    avg_cost_male_lotsofchildren = male_4andmore_cost/male4over\n",
    "    avg_cost_female_0child = female_0child_cost/female0\n",
    "    avg_cost_female_1child = female_1child_cost/female1\n",
    "    avg_cost_female_2child = female_2child_cost/female2\n",
    "    avg_cost_female_3child = female_3child_cost/female3\n",
    "    avg_cost_female_lotsofchildren = female_4andmore_cost/female4over\n",
    "    male1child_avg_allmales = male_1child_cost/males\n",
    "    male2child_avg_allmales = male_2child_cost/males\n",
    "    male3child_avg_allmales = male_3child_cost/males\n",
    "    malelotschildren_avg_allmales = male_4andmore_cost/males\n",
    "    female1child_avg_allfemales = female_1child_cost/females\n",
    "    female2child_avg_allfemales = female_2child_cost/females\n",
    "    female3child_avg_allfemales = female_3child_cost/females\n",
    "    femalelotschildren_avg_allfemales = female_4andmore_cost/females\n",
    "    return avg_cost_male_0child, avg_cost_male_1child, avg_cost_male_2child, avg_cost_male_3child, avg_cost_male_lotsofchildren, avg_cost_female_0child, avg_cost_female_1child, avg_cost_female_2child, avg_cost_female_3child, avg_cost_female_lotsofchildren, male1child_avg_allmales, male2child_avg_allmales, male3child_avg_allmales, malelotschildren_avg_allmales, female1child_avg_allfemales, female2child_avg_allfemales, female3child_avg_allfemales, femalelotschildren_avg_allfemales\n",
    "male_0, male_1, male_2, male_3, male_4over, female_0, female_1, female_2, female_3, female_4over, male_1_all, male_2_all, male_3_all, male_4over_all, female_1_all, female_2_all, female_3_all, female_4over_all = avg_cost_sex_children(sexs, children, charges)\n",
    "print(\"The average cost of insurance for just males with 0 children is ${male_0:.2f}.\".format(male_0=male_0))\n",
    "print(\"The average cost of insurance for just females with 0 children is ${female_0:.2f}.\".format(female_0=female_0))\n",
    "print(\"The average cost of insurance for just males with 1 children is ${male_1:.2f}.\".format(male_1=male_1))\n",
    "print(\"The average cost of insurance for just females with 1 children is ${female_1:.2f}.\".format(female_1=female_1))\n",
    "print(\"The average cost of insurance for just males with 0 children is ${male_0:.2f}.\".format(male_0=male_1_all))\n",
    "      "
   ]
  },
  {
   "cell_type": "markdown",
   "metadata": {},
   "source": [
    "The following functions will be used to explore the shortcomings and potential bias within the dataset. These will include male vs females, male smokers vs female smokers, the age ranges of the dataset, etc."
   ]
  },
  {
   "cell_type": "code",
   "execution_count": null,
   "metadata": {},
   "outputs": [],
   "source": [
    "def num_of_males_compared_to_females(sexs):\n",
    "    "
   ]
  },
  {
   "cell_type": "code",
   "execution_count": null,
   "metadata": {},
   "outputs": [],
   "source": [
    "def num_male_smoker_to_female_smoker(sexs, smoker):\n",
    "    "
   ]
  },
  {
   "cell_type": "code",
   "execution_count": null,
   "metadata": {},
   "outputs": [],
   "source": [
    "def age_ranges(ages):\n",
    "    "
   ]
  }
 ],
 "metadata": {
  "kernelspec": {
   "display_name": "Python 3 (ipykernel)",
   "language": "python",
   "name": "python3"
  },
  "language_info": {
   "codemirror_mode": {
    "name": "ipython",
    "version": 3
   },
   "file_extension": ".py",
   "mimetype": "text/x-python",
   "name": "python",
   "nbconvert_exporter": "python",
   "pygments_lexer": "ipython3",
   "version": "3.9.12"
  }
 },
 "nbformat": 4,
 "nbformat_minor": 4
}
